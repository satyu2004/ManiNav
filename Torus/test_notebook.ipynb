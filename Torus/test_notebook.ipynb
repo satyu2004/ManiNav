{
 "cells": [
  {
   "cell_type": "code",
   "execution_count": 1,
   "metadata": {},
   "outputs": [
    {
     "name": "stderr",
     "output_type": "stream",
     "text": [
      "C:\\Users\\Sathya\\AppData\\Local\\Temp\\ipykernel_29120\\24485433.py:21: FutureWarning: You are using `torch.load` with `weights_only=False` (the current default value), which uses the default pickle module implicitly. It is possible to construct malicious pickle data which will execute arbitrary code during unpickling (See https://github.com/pytorch/pytorch/blob/main/SECURITY.md#untrusted-models for more details). In a future release, the default value for `weights_only` will be flipped to `True`. This limits the functions that could be executed during unpickling. Arbitrary objects will no longer be allowed to be loaded via this mode unless they are explicitly allowlisted by the user via `torch.serialization.add_safe_globals`. We recommend you start setting `weights_only=True` for any use case where you don't have full control of the loaded file. Please open an issue on GitHub for any issues related to this experimental feature.\n",
      "  X0, V, pos = torch.load(f\"{path}/X0.pt\"), torch.load(f\"{path}/V.pt\"), torch.load(f\"{path}/pos.pt\")\n"
     ]
    },
    {
     "data": {
      "text/plain": [
       "torch.Size([10000, 2])"
      ]
     },
     "execution_count": 1,
     "metadata": {},
     "output_type": "execute_result"
    }
   ],
   "source": [
    "import os\n",
    "import torch\n",
    "\n",
    "path = 'data'\n",
    "\n",
    "# X0_1 = torch.load(f\"{path}/X0_1.pt\")\n",
    "# X0_2 = torch.load(f\"{path}/X0_2.pt\")\n",
    "# V_1 = torch.load(f\"{path}/V_1.pt\")\n",
    "# V_2 = torch.load(f\"{path}/V_2.pt\")\n",
    "# pos_1 = torch.load(f\"{path}/pos_1.pt\")\n",
    "# pos_2 = torch.load(f\"{path}/pos_2.pt\")\n",
    "\n",
    "# X0 = torch.cat((X0_1, X0_2), dim=0)\n",
    "# V = torch.cat((V_1, V_2), dim=0)\n",
    "# pos = torch.cat((pos_1, pos_2), dim=0)\n",
    "\n",
    "# torch.save(X0, f\"{path}/X0.pt\")\n",
    "# torch.save(V, f\"{path}/V.pt\")\n",
    "# torch.save(pos, f\"{path}/pos.pt\")\n",
    "\n",
    "X0, V, pos = torch.load(f\"{path}/X0.pt\"), torch.load(f\"{path}/V.pt\"), torch.load(f\"{path}/pos.pt\")\n",
    "X0.shape\n"
   ]
  },
  {
   "cell_type": "code",
   "execution_count": 2,
   "metadata": {},
   "outputs": [
    {
     "data": {
      "text/plain": [
       "(tensor([[-0.0915,  0.0097,  0.0339],\n",
       "         [ 0.0339, -0.0234, -0.0708],\n",
       "         [ 0.0050, -0.0734,  0.0109],\n",
       "         ...,\n",
       "         [ 0.0329,  0.0565, -0.0005],\n",
       "         [ 0.0494,  0.0571, -0.0100],\n",
       "         [-0.0005, -0.0324,  0.0037]], grad_fn=<SubBackward0>),\n",
       " tensor([[-0.0928,  0.0110,  0.0294],\n",
       "         [ 0.0314, -0.0215, -0.0724],\n",
       "         [ 0.0089, -0.0773,  0.0093],\n",
       "         ...,\n",
       "         [ 0.0318,  0.0547, -0.0004],\n",
       "         [ 0.0484,  0.0554, -0.0099],\n",
       "         [-0.0005, -0.0330,  0.0036]], grad_fn=<SqueezeBackward0>))"
      ]
     },
     "execution_count": 2,
     "metadata": {},
     "output_type": "execute_result"
    }
   ],
   "source": [
    "from torus_math import Torus\n",
    "torus = Torus(a=1, c=4)\n",
    "pos_3d = torus.immersion(pos)\n",
    "jacobian_matrices = torus.jacobian_matrix_batch(pos[:,0])\n",
    "# jacobian_matrices.shape, V[:,0].unsqueeze(dim=-1).shape\n",
    "V_3d = torch.bmm(jacobian_matrices, V[:,1].unsqueeze(dim=-1)).squeeze()\n",
    "diff = pos_3d[:,1]-pos_3d[:,0]\n",
    "diff, V_3d"
   ]
  },
  {
   "cell_type": "code",
   "execution_count": 20,
   "metadata": {},
   "outputs": [
    {
     "data": {
      "text/plain": [
       "(tensor([[-0.0364,  0.0161,  0.0114],\n",
       "         [-0.0262, -0.0295,  0.0349],\n",
       "         [ 0.0242,  0.0933, -0.0192],\n",
       "         ...,\n",
       "         [ 0.0375, -0.0345,  0.0023],\n",
       "         [ 0.0341,  0.0141,  0.0056],\n",
       "         [ 0.0575, -0.0836, -0.0143]], grad_fn=<SubBackward0>),\n",
       " tensor([[-0.0367,  0.0156, -0.0106],\n",
       "         [-0.0274, -0.0307, -0.0345],\n",
       "         [ 0.0285,  0.0886,  0.0231],\n",
       "         ...,\n",
       "         [ 0.0377, -0.0342, -0.0036],\n",
       "         [ 0.0346,  0.0143, -0.0057],\n",
       "         [ 0.0546, -0.0775,  0.0149]], grad_fn=<SqueezeBackward0>))"
      ]
     },
     "execution_count": 20,
     "metadata": {},
     "output_type": "execute_result"
    }
   ],
   "source": [
    "from torus_math import Torus\n",
    "torus = Torus(a=1, c=4)\n",
    "pos_3d = torus.immersion(pos[:,0])\n",
    "jacobian_matrices = torus.jacobian_matrix_batch(X0)\n",
    "jacobian_matrices.shape, V[:,0].unsqueeze(dim=-1).shape\n",
    "V_3d = torch.bmm(jacobian_matrices, V[:,0].unsqueeze(dim=-1)).squeeze()\n",
    "diff = pos_3d-torus.immersion(X0)\n",
    "diff, V_3d"
   ]
  },
  {
   "cell_type": "code",
   "execution_count": 6,
   "metadata": {},
   "outputs": [
    {
     "data": {
      "text/plain": [
       "tensor(0.0004, grad_fn=<MedianBackward0>)"
      ]
     },
     "execution_count": 6,
     "metadata": {},
     "output_type": "execute_result"
    }
   ],
   "source": [
    "i=2\n",
    "(diff[:,i] - V_3d[:,i]).abs().median()"
   ]
  },
  {
   "cell_type": "code",
   "execution_count": 36,
   "metadata": {},
   "outputs": [
    {
     "name": "stdout",
     "output_type": "stream",
     "text": [
      "Euclidean displacement tensor([0.0049, 0.0557], grad_fn=<SelectBackward0>)\n",
      "Velocities tensor([0.0054, 0.0557], grad_fn=<SelectBackward0>)\n"
     ]
    }
   ],
   "source": [
    "i=3\n",
    "print(f'Euclidean displacement {pos[0].diff(dim=0)[i]}')\n",
    "print(f'Velocities {V[0,i+1]}')"
   ]
  },
  {
   "cell_type": "code",
   "execution_count": 3,
   "metadata": {},
   "outputs": [
    {
     "data": {
      "text/plain": [
       "(tensor([[-1.2316, -4.7206,  0.0000],\n",
       "         [-0.4622,  0.1206,  0.8786]], grad_fn=<SelectBackward0>),\n",
       " tensor([[-1.2316, -0.4622],\n",
       "         [-4.7206,  0.1206],\n",
       "         [ 0.0000,  0.8786]], grad_fn=<SelectBackward0>))"
      ]
     },
     "execution_count": 3,
     "metadata": {},
     "output_type": "execute_result"
    }
   ],
   "source": [
    "import torus_math\n",
    "from geodesic_solver import Immersed_Manifold\n",
    "\n",
    "torus = torus_math.Torus(a=1, c=4)\n",
    "jm_torus_math = torus.jacobian_matrix_batch(X0)\n",
    "\n",
    "manifold = Immersed_Manifold(immersion=torus.immersion)\n",
    "jm_autograd = manifold.compute_partial_derivatives(X0).permute(dims=(0,2,1))\n",
    "\n",
    "i=1\n",
    "(jm_torus_math[i], jm_autograd[i])\n"
   ]
  },
  {
   "cell_type": "code",
   "execution_count": 7,
   "metadata": {},
   "outputs": [
    {
     "data": {
      "text/plain": [
       "(torch.Size([2, 3]), torch.Size([3, 2]))"
      ]
     },
     "execution_count": 7,
     "metadata": {},
     "output_type": "execute_result"
    }
   ],
   "source": [
    "jm_torus_math[0].shape, torch.linalg.pinv(jm_torus_math[0]).shape"
   ]
  },
  {
   "cell_type": "code",
   "execution_count": 5,
   "metadata": {},
   "outputs": [
    {
     "name": "stdout",
     "output_type": "stream",
     "text": [
      "List unpickled from runtimes_dim_8.pkl\n"
     ]
    },
    {
     "data": {
      "text/plain": [
       "[0.14872288703918457,\n",
       " 0.09399938583374023,\n",
       " 0.09020471572875977,\n",
       " 0.08251452445983887,\n",
       " 0.13127493858337402,\n",
       " 0.09063410758972168,\n",
       " 0.0845937728881836,\n",
       " 0.10508394241333008,\n",
       " 0.08269214630126953,\n",
       " 0.09990859031677246]"
      ]
     },
     "execution_count": 5,
     "metadata": {},
     "output_type": "execute_result"
    }
   ],
   "source": [
    "import pickle\n",
    "def unpickle_list(filename):\n",
    "    \"\"\"\n",
    "    Unpickles a list from a file.\n",
    "\n",
    "    Args:\n",
    "        filename (str): The filename to load the pickled list from.\n",
    "\n",
    "    Returns:\n",
    "        list or None: The unpickled list, or None if an error occurred.\n",
    "    \"\"\"\n",
    "    try:\n",
    "        with open(filename, 'rb') as f:  # 'rb' for read binary\n",
    "            loaded_list = pickle.load(f)\n",
    "        print(f\"List unpickled from {filename}\")\n",
    "        return loaded_list\n",
    "    except FileNotFoundError:\n",
    "        print(f\"Error: File not found at {filename}\")\n",
    "        return None\n",
    "    except (IOError, pickle.UnpicklingError) as e: #Handles more possible errors\n",
    "        print(f\"Error unpickling list: {e}\")\n",
    "        return None\n",
    "    \n",
    "\n",
    "unpickle_list('runtimes_dim_8.pkl')"
   ]
  }
 ],
 "metadata": {
  "kernelspec": {
   "display_name": "Python 3",
   "language": "python",
   "name": "python3"
  },
  "language_info": {
   "codemirror_mode": {
    "name": "ipython",
    "version": 3
   },
   "file_extension": ".py",
   "mimetype": "text/x-python",
   "name": "python",
   "nbconvert_exporter": "python",
   "pygments_lexer": "ipython3",
   "version": "3.11.9"
  }
 },
 "nbformat": 4,
 "nbformat_minor": 2
}
