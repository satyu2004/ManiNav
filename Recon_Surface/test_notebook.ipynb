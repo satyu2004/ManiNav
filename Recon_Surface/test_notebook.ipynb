{
 "cells": [
  {
   "cell_type": "code",
   "execution_count": 4,
   "metadata": {},
   "outputs": [
    {
     "name": "stderr",
     "output_type": "stream",
     "text": [
      "C:\\Users\\Sathya\\AppData\\Local\\Temp\\ipykernel_24632\\2889638705.py:24: FutureWarning: You are using `torch.load` with `weights_only=False` (the current default value), which uses the default pickle module implicitly. It is possible to construct malicious pickle data which will execute arbitrary code during unpickling (See https://github.com/pytorch/pytorch/blob/main/SECURITY.md#untrusted-models for more details). In a future release, the default value for `weights_only` will be flipped to `True`. This limits the functions that could be executed during unpickling. Arbitrary objects will no longer be allowed to be loaded via this mode unless they are explicitly allowlisted by the user via `torch.serialization.add_safe_globals`. We recommend you start setting `weights_only=True` for any use case where you don't have full control of the loaded file. Please open an issue on GitHub for any issues related to this experimental feature.\n",
      "  X0, V, pos = torch.load(f\"{path}/X0.pt\"), torch.load(f\"{path}/V.pt\"), torch.load(f\"{path}/pos.pt\")\n"
     ]
    },
    {
     "data": {
      "text/plain": [
       "torch.Size([100, 2])"
      ]
     },
     "execution_count": 4,
     "metadata": {},
     "output_type": "execute_result"
    }
   ],
   "source": [
    "import os\n",
    "import torch\n",
    "import numpy as np\n",
    "import matplotlib.pyplot as plt\n",
    "from tqdm import tqdm\n",
    "\n",
    "path = 'data'\n",
    "\n",
    "# X0_1 = torch.load(f\"{path}/X0_1.pt\")\n",
    "# X0_2 = torch.load(f\"{path}/X0_2.pt\")\n",
    "# V_1 = torch.load(f\"{path}/V_1.pt\")\n",
    "# V_2 = torch.load(f\"{path}/V_2.pt\")\n",
    "# pos_1 = torch.load(f\"{path}/pos_1.pt\")\n",
    "# pos_2 = torch.load(f\"{path}/pos_2.pt\")\n",
    "\n",
    "# X0 = torch.cat((X0_1, X0_2), dim=0)\n",
    "# V = torch.cat((V_1, V_2), dim=0)\n",
    "# pos = torch.cat((pos_1, pos_2), dim=0)\n",
    "\n",
    "# torch.save(X0, f\"{path}/X0.pt\")\n",
    "# torch.save(V, f\"{path}/V.pt\")\n",
    "# torch.save(pos, f\"{path}/pos.pt\")\n",
    "\n",
    "X0, V, pos = torch.load(f\"{path}/X0.pt\"), torch.load(f\"{path}/V.pt\"), torch.load(f\"{path}/pos.pt\")\n",
    "X0.shape\n"
   ]
  },
  {
   "cell_type": "code",
   "execution_count": 2,
   "metadata": {},
   "outputs": [
    {
     "data": {
      "text/plain": [
       "<matplotlib.collections.PathCollection at 0x151fff4cb90>"
      ]
     },
     "execution_count": 2,
     "metadata": {},
     "output_type": "execute_result"
    },
    {
     "data": {
      "image/png": "[encoded data removed]",
      "text/plain": [
       "<Figure size 640x480 with 1 Axes>"
      ]
     },
     "metadata": {},
     "output_type": "display_data"
    }
   ],
   "source": [
    "plt.scatter(X0[:, 0], X0[:, 1])"
   ]
  },
  {
   "cell_type": "code",
   "execution_count": 5,
   "metadata": {},
   "outputs": [
    {
     "name": "stderr",
     "output_type": "stream",
     "text": [
      "C:\\Users\\Sathya\\AppData\\Local\\Temp\\ipykernel_24632\\3325782543.py:17: FutureWarning: You are using `torch.load` with `weights_only=False` (the current default value), which uses the default pickle module implicitly. It is possible to construct malicious pickle data which will execute arbitrary code during unpickling (See https://github.com/pytorch/pytorch/blob/main/SECURITY.md#untrusted-models for more details). In a future release, the default value for `weights_only` will be flipped to `True`. This limits the functions that could be executed during unpickling. Arbitrary objects will no longer be allowed to be loaded via this mode unless they are explicitly allowlisted by the user via `torch.serialization.add_safe_globals`. We recommend you start setting `weights_only=True` for any use case where you don't have full control of the loaded file. Please open an issue on GitHub for any issues related to this experimental feature.\n",
      "  f.load_state_dict(torch.load('neural_surface.pth'))\n"
     ]
    },
    {
     "data": {
      "text/plain": [
       "(tensor([[ 0.0459,  0.0623, -0.0376],\n",
       "         [-0.0413,  0.0057,  0.0183],\n",
       "         [-0.0039, -0.0073,  0.0067],\n",
       "         [-0.0256, -0.0955,  0.0102],\n",
       "         [-0.0392, -0.0073,  0.0575],\n",
       "         [-0.0108,  0.0166, -0.0264],\n",
       "         [-0.0262, -0.0044,  0.0114],\n",
       "         [-0.0075,  0.0671, -0.0268],\n",
       "         [ 0.0312, -0.0162,  0.0554],\n",
       "         [ 0.0125,  0.0686, -0.0450],\n",
       "         [ 0.0423, -0.0812,  0.0676],\n",
       "         [ 0.0109,  0.0375,  0.0105],\n",
       "         [ 0.0106,  0.0633, -0.0033],\n",
       "         [ 0.0060,  0.0864, -0.0539],\n",
       "         [ 0.0291,  0.0377, -0.0699],\n",
       "         [-0.0413, -0.0427,  0.0423],\n",
       "         [ 0.0161,  0.0578,  0.0153],\n",
       "         [-0.0346,  0.0617, -0.0156],\n",
       "         [-0.0665,  0.0177, -0.0130],\n",
       "         [ 0.0266,  0.0517, -0.0485],\n",
       "         [ 0.0274, -0.0153,  0.0392],\n",
       "         [-0.0472,  0.0060, -0.0024],\n",
       "         [-0.0798,  0.0314,  0.0285],\n",
       "         [-0.0600,  0.0409, -0.0672],\n",
       "         [-0.0275, -0.0292,  0.0171],\n",
       "         [ 0.0116, -0.0164,  0.0354],\n",
       "         [ 0.0416,  0.0135, -0.0329],\n",
       "         [ 0.0852, -0.0068, -0.0269],\n",
       "         [ 0.0101, -0.0194,  0.0107],\n",
       "         [ 0.0472, -0.0583,  0.0489],\n",
       "         [-0.0094,  0.0500, -0.0523],\n",
       "         [ 0.0316,  0.0761, -0.0517],\n",
       "         [ 0.0832, -0.0301, -0.0023],\n",
       "         [ 0.0774,  0.0121, -0.0329],\n",
       "         [ 0.0453,  0.0271, -0.0495],\n",
       "         [-0.0625,  0.0165,  0.0349],\n",
       "         [-0.0025,  0.0002,  0.0003],\n",
       "         [-0.0521,  0.0488, -0.0671],\n",
       "         [-0.0056, -0.0221, -0.0118],\n",
       "         [ 0.0562, -0.0457,  0.0468],\n",
       "         [ 0.0387,  0.0096, -0.0436],\n",
       "         [ 0.0235, -0.0039, -0.0147],\n",
       "         [ 0.0412,  0.0266, -0.0290],\n",
       "         [ 0.0018,  0.0321, -0.0323],\n",
       "         [-0.0381,  0.0367, -0.0360],\n",
       "         [ 0.0684,  0.0259, -0.0427],\n",
       "         [ 0.0181, -0.0106, -0.0111],\n",
       "         [ 0.0515, -0.0122, -0.0228],\n",
       "         [-0.0301, -0.0342, -0.0373],\n",
       "         [-0.0550,  0.0119,  0.0021],\n",
       "         [ 0.0220,  0.0448, -0.0334],\n",
       "         [-0.0328, -0.0539,  0.0481],\n",
       "         [ 0.0362, -0.0764,  0.0507],\n",
       "         [-0.0695,  0.0636,  0.0236],\n",
       "         [ 0.0178, -0.0299,  0.0703],\n",
       "         [-0.0109, -0.0133,  0.0124],\n",
       "         [ 0.0760, -0.0088, -0.0267],\n",
       "         [ 0.0135, -0.0484,  0.0015],\n",
       "         [ 0.0539,  0.0029, -0.0328],\n",
       "         [ 0.0867, -0.0018, -0.0281],\n",
       "         [ 0.0685, -0.0582,  0.0243],\n",
       "         [ 0.0256, -0.0480, -0.0079],\n",
       "         [ 0.0032, -0.0720,  0.0161],\n",
       "         [ 0.0587, -0.0337,  0.0010],\n",
       "         [ 0.0115,  0.0074,  0.0108],\n",
       "         [-0.0903,  0.0125, -0.0121],\n",
       "         [-0.0067,  0.0357, -0.0093],\n",
       "         [-0.0435,  0.0313, -0.0405],\n",
       "         [ 0.0439,  0.0484, -0.0489],\n",
       "         [-0.0636, -0.0257,  0.0866],\n",
       "         [ 0.0166,  0.0917, -0.0337],\n",
       "         [-0.0271,  0.0580, -0.0134],\n",
       "         [-0.0487,  0.0262, -0.0324],\n",
       "         [-0.0221,  0.0146, -0.0387],\n",
       "         [-0.0734,  0.0038,  0.0085],\n",
       "         [ 0.0655, -0.0187, -0.0516],\n",
       "         [ 0.0313,  0.0594, -0.0559],\n",
       "         [-0.0238, -0.0422,  0.0385],\n",
       "         [ 0.0058, -0.0587,  0.0684],\n",
       "         [ 0.0343, -0.0404,  0.0132],\n",
       "         [-0.0132, -0.0296,  0.0194],\n",
       "         [-0.0766,  0.0108,  0.0093],\n",
       "         [ 0.0073,  0.0093, -0.0090],\n",
       "         [ 0.0019,  0.0061, -0.0089],\n",
       "         [ 0.0486, -0.0734,  0.0616],\n",
       "         [ 0.0251,  0.0410,  0.0157],\n",
       "         [-0.0553, -0.0552,  0.0595],\n",
       "         [-0.0252,  0.0796, -0.0245],\n",
       "         [-0.0128, -0.0108,  0.0101],\n",
       "         [-0.0073, -0.0018,  0.0117],\n",
       "         [ 0.0261, -0.0666,  0.0453],\n",
       "         [-0.0123, -0.0933, -0.0188],\n",
       "         [ 0.0710, -0.0169, -0.0173],\n",
       "         [ 0.0353, -0.0627,  0.0762],\n",
       "         [ 0.0659,  0.0030, -0.0352],\n",
       "         [-0.0334,  0.0402, -0.0114],\n",
       "         [ 0.0042,  0.0857, -0.0617],\n",
       "         [-0.0610,  0.0388, -0.0138],\n",
       "         [ 0.0446,  0.0600, -0.0379],\n",
       "         [-0.0101, -0.0039,  0.0049]], grad_fn=<SubBackward0>),\n",
       " tensor([[ 0.0459,  0.0623, -0.0425],\n",
       "         [-0.0413,  0.0057,  0.0123],\n",
       "         [-0.0039, -0.0073,  0.0067],\n",
       "         [-0.0256, -0.0955,  0.0018],\n",
       "         [-0.0392, -0.0073,  0.0744],\n",
       "         [-0.0108,  0.0166, -0.0292],\n",
       "         [-0.0262, -0.0044,  0.0114],\n",
       "         [-0.0075,  0.0671, -0.0452],\n",
       "         [ 0.0312, -0.0162,  0.0548],\n",
       "         [ 0.0125,  0.0686, -0.0501],\n",
       "         [ 0.0423, -0.0812,  0.0352],\n",
       "         [ 0.0109,  0.0375,  0.0144],\n",
       "         [ 0.0106,  0.0633,  0.0064],\n",
       "         [ 0.0060,  0.0864, -0.0474],\n",
       "         [ 0.0291,  0.0377, -0.0843],\n",
       "         [-0.0413, -0.0427,  0.0428],\n",
       "         [ 0.0161,  0.0578,  0.0203],\n",
       "         [-0.0346,  0.0617, -0.0387],\n",
       "         [-0.0665,  0.0177, -0.0196],\n",
       "         [ 0.0266,  0.0517, -0.0556],\n",
       "         [ 0.0274, -0.0153,  0.0422],\n",
       "         [-0.0472,  0.0060,  0.0005],\n",
       "         [-0.0798,  0.0314, -0.0088],\n",
       "         [-0.0600,  0.0409, -0.0451],\n",
       "         [-0.0275, -0.0292,  0.0152],\n",
       "         [ 0.0116, -0.0164,  0.0324],\n",
       "         [ 0.0416,  0.0135, -0.0346],\n",
       "         [ 0.0852, -0.0068, -0.0110],\n",
       "         [ 0.0101, -0.0194,  0.0127],\n",
       "         [ 0.0472, -0.0583,  0.0280],\n",
       "         [-0.0094,  0.0500, -0.0408],\n",
       "         [ 0.0316,  0.0761, -0.0361],\n",
       "         [ 0.0832, -0.0301,  0.0392],\n",
       "         [ 0.0774,  0.0121, -0.0257],\n",
       "         [ 0.0453,  0.0271, -0.0411],\n",
       "         [-0.0625,  0.0165,  0.0342],\n",
       "         [-0.0025,  0.0002,  0.0003],\n",
       "         [-0.0521,  0.0488, -0.0610],\n",
       "         [-0.0056, -0.0221, -0.0114],\n",
       "         [ 0.0562, -0.0457,  0.0319],\n",
       "         [ 0.0387,  0.0096, -0.0489],\n",
       "         [ 0.0235, -0.0039, -0.0181],\n",
       "         [ 0.0412,  0.0266, -0.0304],\n",
       "         [ 0.0018,  0.0321, -0.0346],\n",
       "         [-0.0381,  0.0367, -0.0374],\n",
       "         [ 0.0684,  0.0259, -0.0482],\n",
       "         [ 0.0181, -0.0106, -0.0086],\n",
       "         [ 0.0515, -0.0122, -0.0083],\n",
       "         [-0.0301, -0.0342, -0.0496],\n",
       "         [-0.0550,  0.0119,  0.0133],\n",
       "         [ 0.0220,  0.0448, -0.0312],\n",
       "         [-0.0328, -0.0539,  0.0491],\n",
       "         [ 0.0362, -0.0764,  0.0312],\n",
       "         [-0.0695,  0.0636, -0.0088],\n",
       "         [ 0.0178, -0.0299,  0.0656],\n",
       "         [-0.0109, -0.0133,  0.0123],\n",
       "         [ 0.0760, -0.0088, -0.0245],\n",
       "         [ 0.0135, -0.0484,  0.0511],\n",
       "         [ 0.0539,  0.0029, -0.0448],\n",
       "         [ 0.0867, -0.0018, -0.0102],\n",
       "         [ 0.0685, -0.0582,  0.0378],\n",
       "         [ 0.0256, -0.0480, -0.0110],\n",
       "         [ 0.0032, -0.0720,  0.0199],\n",
       "         [ 0.0587, -0.0337, -0.0245],\n",
       "         [ 0.0115,  0.0074,  0.0102],\n",
       "         [-0.0903,  0.0125,  0.0353],\n",
       "         [-0.0067,  0.0357, -0.0131],\n",
       "         [-0.0435,  0.0313, -0.0514],\n",
       "         [ 0.0439,  0.0484, -0.0482],\n",
       "         [-0.0636, -0.0257,  0.0651],\n",
       "         [ 0.0166,  0.0917, -0.0162],\n",
       "         [-0.0271,  0.0580, -0.0044],\n",
       "         [-0.0487,  0.0262, -0.0348],\n",
       "         [-0.0221,  0.0146, -0.0372],\n",
       "         [-0.0734,  0.0038, -0.0093],\n",
       "         [ 0.0655, -0.0187, -0.0319],\n",
       "         [ 0.0313,  0.0594, -0.0528],\n",
       "         [-0.0238, -0.0422,  0.0398],\n",
       "         [ 0.0058, -0.0587,  0.0430],\n",
       "         [ 0.0343, -0.0404,  0.0222],\n",
       "         [-0.0132, -0.0296,  0.0190],\n",
       "         [-0.0766,  0.0108,  0.0210],\n",
       "         [ 0.0073,  0.0093, -0.0092],\n",
       "         [ 0.0019,  0.0061, -0.0090],\n",
       "         [ 0.0486, -0.0734,  0.0325],\n",
       "         [ 0.0251,  0.0410,  0.0046],\n",
       "         [-0.0553, -0.0552,  0.0617],\n",
       "         [-0.0252,  0.0796, -0.0231],\n",
       "         [-0.0128, -0.0108,  0.0124],\n",
       "         [-0.0073, -0.0018,  0.0121],\n",
       "         [ 0.0261, -0.0666,  0.0572],\n",
       "         [-0.0123, -0.0933, -0.0050],\n",
       "         [ 0.0710, -0.0169,  0.0186],\n",
       "         [ 0.0353, -0.0627,  0.0687],\n",
       "         [ 0.0659,  0.0030, -0.0470],\n",
       "         [-0.0334,  0.0402, -0.0267],\n",
       "         [ 0.0042,  0.0857, -0.0112],\n",
       "         [-0.0610,  0.0388, -0.0432],\n",
       "         [ 0.0446,  0.0600, -0.0438],\n",
       "         [-0.0101, -0.0039,  0.0050]], grad_fn=<SqueezeBackward0>))"
      ]
     },
     "execution_count": 5,
     "metadata": {},
     "output_type": "execute_result"
    }
   ],
   "source": [
    "import torch\n",
    "torch.set_default_dtype(torch.float64)\n",
    "from geodesic_solver import Immersed_Manifold\n",
    "\n",
    "def model_tanh(hidden_dims: list):\n",
    "    model = torch.nn.Sequential(\n",
    "        torch.nn.Linear(2, hidden_dims[0]),\n",
    "        torch.nn.Tanh(),\n",
    "        torch.nn.Linear(hidden_dims[0], hidden_dims[1]),\n",
    "        torch.nn.Tanh(),\n",
    "        torch.nn.Linear(hidden_dims[1], 1)\n",
    "    )\n",
    "    return model\n",
    "\n",
    "f = model_tanh([32, 32])\n",
    "# f.load_state_dict(torch.load('Recon_Surface\\\\neural_surface.pth'))\n",
    "f.load_state_dict(torch.load('neural_surface.pth'))\n",
    "\n",
    "class Surface:\n",
    "    # def __init__(self, a, c):\n",
    "    #     self.a = a\n",
    "    #     self.c = c\n",
    "    def immersion(self, point):\n",
    "        \"\"\"Immersion. Input is a batch of 2-tupes in the unit square.\"\"\"\n",
    "        device = torch.device(\"cuda\" if torch.cuda.is_available() else \"cpu\")\n",
    "        X = point[..., 0]\n",
    "        Y = point[..., 1]\n",
    "        Z = f(point).squeeze(-1)  \n",
    "\n",
    "        return torch.stack(\n",
    "            [X, Y, Z],\n",
    "            axis=-1,\n",
    "        ).to(device)\n",
    "\n",
    "    def jacobian_matrix_batch(self, pts):\n",
    "\n",
    "            # Ensure we're on the right device\n",
    "            device = torch.device(\"cuda\" if torch.cuda.is_available() else \"cpu\")\n",
    "            pts = pts.to(device)\n",
    "            batch_size = pts.shape[0]\n",
    "            \n",
    "            # Create the Jacobian tensor\n",
    "            jacobian = torch.zeros(batch_size, 3, 2, device=device)\n",
    "            \n",
    "            # Set the known derivatives for X and Y components\n",
    "            # For the X component (immersed_pts[:, 0]):\n",
    "            jacobian[:, 0, 0] = 1.0  # ∂X/∂x = 1\n",
    "            jacobian[:, 0, 1] = 0.0  # ∂X/∂y = 0\n",
    "            \n",
    "            # For the Y component (immersed_pts[:, 1]):\n",
    "            jacobian[:, 1, 0] = 0.0  # ∂Y/∂x = 0\n",
    "            jacobian[:, 1, 1] = 1.0  # ∂Y/∂y = 1\n",
    "            \n",
    "            # Only compute gradients for the Z component\n",
    "            # Clone and set requires_grad to avoid modifying the input tensor\n",
    "            pts_grad = pts.detach().clone().requires_grad_(True)\n",
    "            \n",
    "            # Compute only the Z component\n",
    "            z_values = f(pts_grad).squeeze()\n",
    "            \n",
    "            # Compute gradients of Z with respect to inputs\n",
    "            z_grad = torch.autograd.grad(\n",
    "                outputs=z_values,\n",
    "                inputs=pts_grad,\n",
    "                grad_outputs=torch.ones_like(z_values, device=device),\n",
    "                create_graph=True,\n",
    "                only_inputs=True\n",
    "            )[0]\n",
    "            \n",
    "            # Store Z gradients in the Jacobian tensor\n",
    "            jacobian[:, 2, :] = z_grad\n",
    "            \n",
    "            return jacobian\n",
    "\n",
    "    def exp(self, base_pts, velocities):\n",
    "        \"Computes exponential maps\"\n",
    "        immersed_manifold = Immersed_Manifold(f=f)\n",
    "        return immersed_manifold.exp(base_pts, velocities)\n",
    "\n",
    "\n",
    " \n",
    "surface = Surface()\n",
    "\n",
    "pos_3d = surface.immersion(pos)\n",
    "jacobian_matrices = surface.jacobian_matrix_batch(pos[:,0])\n",
    "# jacobian_matrices.shape, V[:,0].unsqueeze(dim=-1).shape\n",
    "V_3d = torch.bmm(jacobian_matrices, V[:,1].unsqueeze(dim=-1)).squeeze()\n",
    "diff = pos_3d[:,1]-pos_3d[:,0]\n",
    "diff, V_3d"
   ]
  },
  {
   "cell_type": "code",
   "execution_count": null,
   "metadata": {},
   "outputs": [
    {
     "data": {
      "text/plain": [
       "torch.Size([100, 100])"
      ]
     },
     "execution_count": 18,
     "metadata": {},
     "output_type": "execute_result"
    }
   ],
   "source": []
  },
  {
   "cell_type": "code",
   "execution_count": null,
   "metadata": {},
   "outputs": [],
   "source": []
  },
  {
   "cell_type": "code",
   "execution_count": 20,
   "metadata": {},
   "outputs": [
    {
     "data": {
      "text/plain": [
       "(tensor([[-0.0364,  0.0161,  0.0114],\n",
       "         [-0.0262, -0.0295,  0.0349],\n",
       "         [ 0.0242,  0.0933, -0.0192],\n",
       "         ...,\n",
       "         [ 0.0375, -0.0345,  0.0023],\n",
       "         [ 0.0341,  0.0141,  0.0056],\n",
       "         [ 0.0575, -0.0836, -0.0143]], grad_fn=<SubBackward0>),\n",
       " tensor([[-0.0367,  0.0156, -0.0106],\n",
       "         [-0.0274, -0.0307, -0.0345],\n",
       "         [ 0.0285,  0.0886,  0.0231],\n",
       "         ...,\n",
       "         [ 0.0377, -0.0342, -0.0036],\n",
       "         [ 0.0346,  0.0143, -0.0057],\n",
       "         [ 0.0546, -0.0775,  0.0149]], grad_fn=<SqueezeBackward0>))"
      ]
     },
     "execution_count": 20,
     "metadata": {},
     "output_type": "execute_result"
    }
   ],
   "source": [
    "from torus_math import Torus\n",
    "torus = Torus(a=1, c=4)\n",
    "pos_3d = torus.immersion(pos[:,0])\n",
    "jacobian_matrices = torus.jacobian_matrix_batch(X0)\n",
    "jacobian_matrices.shape, V[:,0].unsqueeze(dim=-1).shape\n",
    "V_3d = torch.bmm(jacobian_matrices, V[:,0].unsqueeze(dim=-1)).squeeze()\n",
    "diff = pos_3d-torus.immersion(X0)\n",
    "diff, V_3d"
   ]
  },
  {
   "cell_type": "code",
   "execution_count": 36,
   "metadata": {},
   "outputs": [
    {
     "name": "stdout",
     "output_type": "stream",
     "text": [
      "Euclidean displacement tensor([0.0049, 0.0557], grad_fn=<SelectBackward0>)\n",
      "Velocities tensor([0.0054, 0.0557], grad_fn=<SelectBackward0>)\n"
     ]
    }
   ],
   "source": [
    "i=3\n",
    "print(f'Euclidean displacement {pos[0].diff(dim=0)[i]}')\n",
    "print(f'Velocities {V[0,i+1]}')"
   ]
  },
  {
   "cell_type": "code",
   "execution_count": 3,
   "metadata": {},
   "outputs": [
    {
     "data": {
      "text/plain": [
       "(tensor([[-1.2316, -4.7206,  0.0000],\n",
       "         [-0.4622,  0.1206,  0.8786]], grad_fn=<SelectBackward0>),\n",
       " tensor([[-1.2316, -0.4622],\n",
       "         [-4.7206,  0.1206],\n",
       "         [ 0.0000,  0.8786]], grad_fn=<SelectBackward0>))"
      ]
     },
     "execution_count": 3,
     "metadata": {},
     "output_type": "execute_result"
    }
   ],
   "source": [
    "import torus_math\n",
    "from geodesic_solver import Immersed_Manifold\n",
    "\n",
    "torus = torus_math.Torus(a=1, c=4)\n",
    "jm_torus_math = torus.jacobian_matrix_batch(X0)\n",
    "\n",
    "manifold = Immersed_Manifold(immersion=torus.immersion)\n",
    "jm_autograd = manifold.compute_partial_derivatives(X0).permute(dims=(0,2,1))\n",
    "\n",
    "i=1\n",
    "(jm_torus_math[i], jm_autograd[i])\n"
   ]
  },
  {
   "cell_type": "code",
   "execution_count": 7,
   "metadata": {},
   "outputs": [
    {
     "data": {
      "text/plain": [
       "(torch.Size([2, 3]), torch.Size([3, 2]))"
      ]
     },
     "execution_count": 7,
     "metadata": {},
     "output_type": "execute_result"
    }
   ],
   "source": [
    "jm_torus_math[0].shape, torch.linalg.pinv(jm_torus_math[0]).shape"
   ]
  },
  {
   "cell_type": "code",
   "execution_count": 5,
   "metadata": {},
   "outputs": [
    {
     "name": "stdout",
     "output_type": "stream",
     "text": [
      "List unpickled from runtimes_dim_8.pkl\n"
     ]
    },
    {
     "data": {
      "text/plain": [
       "[0.14872288703918457,\n",
       " 0.09399938583374023,\n",
       " 0.09020471572875977,\n",
       " 0.08251452445983887,\n",
       " 0.13127493858337402,\n",
       " 0.09063410758972168,\n",
       " 0.0845937728881836,\n",
       " 0.10508394241333008,\n",
       " 0.08269214630126953,\n",
       " 0.09990859031677246]"
      ]
     },
     "execution_count": 5,
     "metadata": {},
     "output_type": "execute_result"
    }
   ],
   "source": [
    "import pickle\n",
    "def unpickle_list(filename):\n",
    "    \"\"\"\n",
    "    Unpickles a list from a file.\n",
    "\n",
    "    Args:\n",
    "        filename (str): The filename to load the pickled list from.\n",
    "\n",
    "    Returns:\n",
    "        list or None: The unpickled list, or None if an error occurred.\n",
    "    \"\"\"\n",
    "    try:\n",
    "        with open(filename, 'rb') as f:  # 'rb' for read binary\n",
    "            loaded_list = pickle.load(f)\n",
    "        print(f\"List unpickled from {filename}\")\n",
    "        return loaded_list\n",
    "    except FileNotFoundError:\n",
    "        print(f\"Error: File not found at {filename}\")\n",
    "        return None\n",
    "    except (IOError, pickle.UnpicklingError) as e: #Handles more possible errors\n",
    "        print(f\"Error unpickling list: {e}\")\n",
    "        return None\n",
    "    \n",
    "\n",
    "unpickle_list('runtimes_dim_8.pkl')"
   ]
  }
 ],
 "metadata": {
  "kernelspec": {
   "display_name": "Python 3",
   "language": "python",
   "name": "python3"
  },
  "language_info": {
   "codemirror_mode": {
    "name": "ipython",
    "version": 3
   },
   "file_extension": ".py",
   "mimetype": "text/x-python",
   "name": "python",
   "nbconvert_exporter": "python",
   "pygments_lexer": "ipython3",
   "version": "3.11.9"
  }
 },
 "nbformat": 4,
 "nbformat_minor": 2
}
