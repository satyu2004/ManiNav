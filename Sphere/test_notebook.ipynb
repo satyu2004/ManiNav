{
 "cells": [
  {
   "cell_type": "code",
   "execution_count": 8,
   "metadata": {},
   "outputs": [
    {
     "name": "stderr",
     "output_type": "stream",
     "text": [
      "C:\\Users\\Sathya\\AppData\\Local\\Temp\\ipykernel_29952\\518760024.py:5: FutureWarning: You are using `torch.load` with `weights_only=False` (the current default value), which uses the default pickle module implicitly. It is possible to construct malicious pickle data which will execute arbitrary code during unpickling (See https://github.com/pytorch/pytorch/blob/main/SECURITY.md#untrusted-models for more details). In a future release, the default value for `weights_only` will be flipped to `True`. This limits the functions that could be executed during unpickling. Arbitrary objects will no longer be allowed to be loaded via this mode unless they are explicitly allowlisted by the user via `torch.serialization.add_safe_globals`. We recommend you start setting `weights_only=True` for any use case where you don't have full control of the loaded file. Please open an issue on GitHub for any issues related to this experimental feature.\n",
      "  pos = torch.load(f\"{path}/pos.pt\")\n"
     ]
    },
    {
     "data": {
      "text/plain": [
       "torch.Size([51408, 100, 2])"
      ]
     },
     "execution_count": 8,
     "metadata": {},
     "output_type": "execute_result"
    }
   ],
   "source": [
    "import os\n",
    "import torch\n",
    "\n",
    "path = 'data'\n",
    "pos = torch.load(f\"{path}/pos.pt\")\n",
    "pos.shape\n",
    "\n",
    "# def display_contents(path):\n",
    "#     try:\n",
    "#         items = os.listdir(path)\n",
    "#         for item in items:\n",
    "#             print(os.path.join(path, item))\n",
    "#     except FileNotFoundError:\n",
    "#         print(f\"Error: Path not found: {path}\")\n",
    "#     except NotADirectoryError:\n",
    "#         print(f\"Error: Not a directory: {path}\")\n",
    "#     except PermissionError:\n",
    "#         print(f\"Error: Permission denied: {path}\")\n",
    "\n",
    "# # display_contents(path)\n",
    "# print(os.getcwd())"
   ]
  },
  {
   "cell_type": "code",
   "execution_count": 5,
   "metadata": {},
   "outputs": [
    {
     "name": "stdout",
     "output_type": "stream",
     "text": [
      "List unpickled from runtimes_dim_8.pkl\n"
     ]
    },
    {
     "data": {
      "text/plain": [
       "[0.14872288703918457,\n",
       " 0.09399938583374023,\n",
       " 0.09020471572875977,\n",
       " 0.08251452445983887,\n",
       " 0.13127493858337402,\n",
       " 0.09063410758972168,\n",
       " 0.0845937728881836,\n",
       " 0.10508394241333008,\n",
       " 0.08269214630126953,\n",
       " 0.09990859031677246]"
      ]
     },
     "execution_count": 5,
     "metadata": {},
     "output_type": "execute_result"
    }
   ],
   "source": [
    "import pickle\n",
    "def unpickle_list(filename):\n",
    "    \"\"\"\n",
    "    Unpickles a list from a file.\n",
    "\n",
    "    Args:\n",
    "        filename (str): The filename to load the pickled list from.\n",
    "\n",
    "    Returns:\n",
    "        list or None: The unpickled list, or None if an error occurred.\n",
    "    \"\"\"\n",
    "    try:\n",
    "        with open(filename, 'rb') as f:  # 'rb' for read binary\n",
    "            loaded_list = pickle.load(f)\n",
    "        print(f\"List unpickled from {filename}\")\n",
    "        return loaded_list\n",
    "    except FileNotFoundError:\n",
    "        print(f\"Error: File not found at {filename}\")\n",
    "        return None\n",
    "    except (IOError, pickle.UnpicklingError) as e: #Handles more possible errors\n",
    "        print(f\"Error unpickling list: {e}\")\n",
    "        return None\n",
    "    \n",
    "\n",
    "unpickle_list('runtimes_dim_8.pkl')"
   ]
  }
 ],
 "metadata": {
  "kernelspec": {
   "display_name": "Python 3",
   "language": "python",
   "name": "python3"
  },
  "language_info": {
   "codemirror_mode": {
    "name": "ipython",
    "version": 3
   },
   "file_extension": ".py",
   "mimetype": "text/x-python",
   "name": "python",
   "nbconvert_exporter": "python",
   "pygments_lexer": "ipython3",
   "version": "3.11.9"
  }
 },
 "nbformat": 4,
 "nbformat_minor": 2
}
