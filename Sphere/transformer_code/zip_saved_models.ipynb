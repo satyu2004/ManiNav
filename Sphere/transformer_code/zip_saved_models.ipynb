{
 "cells": [
  {
   "cell_type": "code",
   "execution_count": 1,
   "id": "0064f84f-388d-4de3-b020-9995032dba15",
   "metadata": {},
   "outputs": [
    {
     "name": "stdout",
     "output_type": "stream",
     "text": [
      "Created zip file: final_models.zip\n"
     ]
    }
   ],
   "source": [
    "import os\n",
    "import shutil\n",
    "import zipfile\n",
    "\n",
    "# Path to the main checkpoints directory\n",
    "base_dir = 'checkpoints'\n",
    "output_dir = 'final_models_temp'\n",
    "zip_name = 'final_models.zip'\n",
    "\n",
    "# Clean up temp dir if it exists\n",
    "if os.path.exists(output_dir):\n",
    "    shutil.rmtree(output_dir)\n",
    "os.makedirs(output_dir)\n",
    "\n",
    "# Go through each run directory\n",
    "for run_folder in sorted(os.listdir(base_dir)):\n",
    "    run_path = os.path.join(base_dir, run_folder)\n",
    "    if os.path.isdir(run_path):\n",
    "        # Make a folder inside temp to store selected files\n",
    "        target_run_path = os.path.join(output_dir, run_folder)\n",
    "        os.makedirs(target_run_path, exist_ok=True)\n",
    "\n",
    "        # Copy model.safetensor and config.json\n",
    "        for filename in ['model.safetensors', 'config.json', 'training_args.bin']:\n",
    "            src_file = os.path.join(run_path, filename)\n",
    "            if os.path.exists(src_file):\n",
    "                shutil.copy2(src_file, target_run_path)\n",
    "\n",
    "# Create a zip file from the temp directory\n",
    "with zipfile.ZipFile(zip_name, 'w', zipfile.ZIP_DEFLATED) as zipf:\n",
    "    for root, dirs, files in os.walk(output_dir):\n",
    "        for file in files:\n",
    "            abs_path = os.path.join(root, file)\n",
    "            rel_path = os.path.relpath(abs_path, output_dir)\n",
    "            zipf.write(abs_path, arcname=rel_path)\n",
    "\n",
    "# Cleanup temp dir\n",
    "shutil.rmtree(output_dir)\n",
    "\n",
    "print(f\"Created zip file: {zip_name}\")\n"
   ]
  },
  {
   "cell_type": "code",
   "execution_count": null,
   "id": "11942f8a-16cc-4f0e-a7a3-6dbed1f79293",
   "metadata": {},
   "outputs": [],
   "source": []
  }
 ],
 "metadata": {
  "kernelspec": {
   "display_name": "Python 3 (ipykernel)",
   "language": "python",
   "name": "python3"
  },
  "language_info": {
   "codemirror_mode": {
    "name": "ipython",
    "version": 3
   },
   "file_extension": ".py",
   "mimetype": "text/x-python",
   "name": "python",
   "nbconvert_exporter": "python",
   "pygments_lexer": "ipython3",
   "version": "3.12.8"
  }
 },
 "nbformat": 4,
 "nbformat_minor": 5
}
