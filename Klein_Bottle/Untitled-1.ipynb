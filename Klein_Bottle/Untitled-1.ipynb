{
 "cells": [
  {
   "cell_type": "markdown",
   "id": "a3acb317",
   "metadata": {},
   "source": [
    "Test if data generator works"
   ]
  },
  {
   "cell_type": "code",
   "execution_count": 1,
   "id": "b3ac4cfa",
   "metadata": {},
   "outputs": [
    {
     "name": "stderr",
     "output_type": "stream",
     "text": [
      "100%|██████████| 10/10 [00:17<00:00,  1.78s/it]\n",
      "100%|██████████| 1/1 [00:17<00:00, 17.79s/it]\n"
     ]
    }
   ],
   "source": [
    "import numpy as np\n",
    "import torch\n",
    "torch.set_default_dtype(torch.float64)\n",
    "import random_generators #local\n",
    "\n",
    "# from scipy.stats import uniform_direction\n",
    "# import Klein_Bottle.kb_math as kb_math\n",
    "\n",
    "from tqdm import tqdm\n",
    "\n",
    "seed = 0\n",
    "torch.manual_seed(seed)\n",
    "np.random.seed(seed)\n",
    "n_steps = 10 # Sequence Length\n",
    "N = 10 # Batch Size\n",
    "max_hop = 0.1 # Scale parameter for velocities\n",
    "\n",
    "\n",
    "\n",
    "# Generate Initial Points\n",
    "X0 = 2 * torch.pi * torch.rand(N,2)\n",
    "\n",
    "V, pos = torch.zeros((N, n_steps, 2)), torch.zeros((N, n_steps, 2))\n",
    "\n",
    "minibatch_size = 10\n",
    "for i in tqdm(range(N // minibatch_size)):\n",
    "    V[minibatch_size*i:minibatch_size*(i+1)], pos[minibatch_size*i:minibatch_size*(i+1)] = random_generators.random_trajectories(X0=X0[minibatch_size*i:minibatch_size*(i+1)], n_steps=n_steps, max_hop=max_hop)"
   ]
  },
  {
   "cell_type": "code",
   "execution_count": 2,
   "id": "27413701",
   "metadata": {},
   "outputs": [
    {
     "data": {
      "text/plain": [
       "(torch.Size([10, 2]), torch.Size([10, 10, 2]), torch.Size([10, 10, 2]))"
      ]
     },
     "execution_count": 2,
     "metadata": {},
     "output_type": "execute_result"
    }
   ],
   "source": [
    "X0.shape, V.shape, pos.shape"
   ]
  },
  {
   "cell_type": "code",
   "execution_count": 1,
   "id": "71174b31",
   "metadata": {},
   "outputs": [
    {
     "data": {
      "text/plain": [
       "odict_keys(['encoder.0.weight', 'encoder.0.bias', 'encoder.1.weight', 'encoder.1.bias', 'rnn.weight_ih_l0', 'rnn.weight_hh_l0', 'rnn.weight_ih_l1', 'rnn.weight_hh_l1', 'decoder.weight', 'decoder.bias'])"
      ]
     },
     "execution_count": 1,
     "metadata": {},
     "output_type": "execute_result"
    }
   ],
   "source": [
    "import torch\n",
    "import torch.nn as nn\n",
    "class RNN_multilayer(nn.Module):\n",
    "    def __init__(self, hidden_size, input_size=2, output_size=2, num_layers=2):\n",
    "        super(RNN_multilayer, self).__init__()\n",
    "        self.hidden_size = hidden_size\n",
    "        self.num_layers = num_layers\n",
    "\n",
    "        # self.encoder = nn.Linear(2*output_size, hidden_size)\n",
    "        # self.encoder = [nn.Linear(input_size, hidden_size)]*num_layers # original version\n",
    "\n",
    "        self.encoder = nn.ModuleList([nn.Linear(input_size, hidden_size) for _ in range(num_layers)])\n",
    "        self.rnn = nn.RNN(input_size, hidden_size, num_layers,nonlinearity='relu', bias=False, batch_first=True)\n",
    "        self.decoder = nn.Linear(hidden_size, output_size)\n",
    "\n",
    "    def forward(self, x_0, V):\n",
    "        # Initialize hidden state\n",
    "        h_0 = torch.stack([self.encoder[i](x_0) for i in range(self.num_layers)], dim=0)\n",
    "\n",
    "        # Forward pass through RNN\n",
    "        out = self.rnn(V, h_0)\n",
    "        # out = self.decoder(out[1][-1])\n",
    "        out = self.decoder(out[0])\n",
    "\n",
    "        return out\n",
    "\n",
    "model = RNN_multilayer(hidden_size=8)\n",
    "model.state_dict().keys()"
   ]
  }
 ],
 "metadata": {
  "kernelspec": {
   "display_name": "Python 3",
   "language": "python",
   "name": "python3"
  },
  "language_info": {
   "codemirror_mode": {
    "name": "ipython",
    "version": 3
   },
   "file_extension": ".py",
   "mimetype": "text/x-python",
   "name": "python",
   "nbconvert_exporter": "python",
   "pygments_lexer": "ipython3",
   "version": "3.11.9"
  }
 },
 "nbformat": 4,
 "nbformat_minor": 5
}
